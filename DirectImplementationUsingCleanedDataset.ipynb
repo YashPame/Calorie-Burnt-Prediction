{
 "cells": [
  {
   "cell_type": "code",
   "execution_count": 17,
   "metadata": {
    "collapsed": true,
    "pycharm": {
     "name": "#%%\n"
    }
   },
   "outputs": [],
   "source": [
    "import numpy as np\n",
    "import pandas as pd\n",
    "import matplotlib.pyplot as plt\n",
    "import seaborn as sns\n",
    "from sklearn.model_selection import train_test_split\n",
    "from xgboost import XGBRegressor\n",
    "from sklearn import metrics"
   ]
  },
  {
   "cell_type": "code",
   "execution_count": 18,
   "outputs": [
    {
     "data": {
      "text/plain": "    User_ID  Gender  Age  Height  Weight  Duration  Heart_Rate  Body_Temp  \\\n0  14733363       0   68     190      94        29         105       40.8   \n1  14861698       1   20     166      60        14          94       40.3   \n2  11179863       0   69     179      79         5          88       38.7   \n3  16180408       1   34     179      71        13         100       40.5   \n4  17771927       1   27     154      58        10          81       39.8   \n\n   Calories  \n0       231  \n1        66  \n2        26  \n3        71  \n4        35  ",
      "text/html": "<div>\n<style scoped>\n    .dataframe tbody tr th:only-of-type {\n        vertical-align: middle;\n    }\n\n    .dataframe tbody tr th {\n        vertical-align: top;\n    }\n\n    .dataframe thead th {\n        text-align: right;\n    }\n</style>\n<table border=\"1\" class=\"dataframe\">\n  <thead>\n    <tr style=\"text-align: right;\">\n      <th></th>\n      <th>User_ID</th>\n      <th>Gender</th>\n      <th>Age</th>\n      <th>Height</th>\n      <th>Weight</th>\n      <th>Duration</th>\n      <th>Heart_Rate</th>\n      <th>Body_Temp</th>\n      <th>Calories</th>\n    </tr>\n  </thead>\n  <tbody>\n    <tr>\n      <th>0</th>\n      <td>14733363</td>\n      <td>0</td>\n      <td>68</td>\n      <td>190</td>\n      <td>94</td>\n      <td>29</td>\n      <td>105</td>\n      <td>40.8</td>\n      <td>231</td>\n    </tr>\n    <tr>\n      <th>1</th>\n      <td>14861698</td>\n      <td>1</td>\n      <td>20</td>\n      <td>166</td>\n      <td>60</td>\n      <td>14</td>\n      <td>94</td>\n      <td>40.3</td>\n      <td>66</td>\n    </tr>\n    <tr>\n      <th>2</th>\n      <td>11179863</td>\n      <td>0</td>\n      <td>69</td>\n      <td>179</td>\n      <td>79</td>\n      <td>5</td>\n      <td>88</td>\n      <td>38.7</td>\n      <td>26</td>\n    </tr>\n    <tr>\n      <th>3</th>\n      <td>16180408</td>\n      <td>1</td>\n      <td>34</td>\n      <td>179</td>\n      <td>71</td>\n      <td>13</td>\n      <td>100</td>\n      <td>40.5</td>\n      <td>71</td>\n    </tr>\n    <tr>\n      <th>4</th>\n      <td>17771927</td>\n      <td>1</td>\n      <td>27</td>\n      <td>154</td>\n      <td>58</td>\n      <td>10</td>\n      <td>81</td>\n      <td>39.8</td>\n      <td>35</td>\n    </tr>\n  </tbody>\n</table>\n</div>"
     },
     "execution_count": 18,
     "metadata": {},
     "output_type": "execute_result"
    }
   ],
   "source": [
    "Dataset=pd.read_csv('FinalDataset_CalorieBurntPrediction.csv')\n",
    "Dataset.head()"
   ],
   "metadata": {
    "collapsed": false,
    "pycharm": {
     "name": "#%%\n"
    }
   }
  },
  {
   "cell_type": "code",
   "execution_count": 19,
   "outputs": [],
   "source": [
    "X=Dataset.drop(columns=['User_ID','Calories'],axis=1)\n",
    "Y=Dataset['Calories']"
   ],
   "metadata": {
    "collapsed": false,
    "pycharm": {
     "name": "#%%\n"
    }
   }
  },
  {
   "cell_type": "code",
   "execution_count": 20,
   "outputs": [],
   "source": [
    "X_train,X_test,Y_train,Y_test=train_test_split(X,Y,test_size=0.2,random_state=2)"
   ],
   "metadata": {
    "collapsed": false,
    "pycharm": {
     "name": "#%%\n"
    }
   }
  },
  {
   "cell_type": "code",
   "execution_count": 21,
   "outputs": [],
   "source": [
    "model=XGBRegressor()"
   ],
   "metadata": {
    "collapsed": false,
    "pycharm": {
     "name": "#%%\n"
    }
   }
  },
  {
   "cell_type": "code",
   "execution_count": 22,
   "outputs": [
    {
     "data": {
      "text/plain": "XGBRegressor(base_score=0.5, booster='gbtree', colsample_bylevel=1,\n             colsample_bynode=1, colsample_bytree=1, gamma=0, gpu_id=-1,\n             importance_type='gain', interaction_constraints='',\n             learning_rate=0.300000012, max_delta_step=0, max_depth=6,\n             min_child_weight=1, missing=nan, monotone_constraints='()',\n             n_estimators=100, n_jobs=8, num_parallel_tree=1, random_state=0,\n             reg_alpha=0, reg_lambda=1, scale_pos_weight=1, subsample=1,\n             tree_method='exact', validate_parameters=1, verbosity=None)"
     },
     "execution_count": 22,
     "metadata": {},
     "output_type": "execute_result"
    }
   ],
   "source": [
    "#training model\n",
    "model.fit(X_train,Y_train)"
   ],
   "metadata": {
    "collapsed": false,
    "pycharm": {
     "name": "#%%\n"
    }
   }
  },
  {
   "cell_type": "code",
   "execution_count": 23,
   "outputs": [
    {
     "name": "stdout",
     "output_type": "stream",
     "text": [
      "[127.823784 226.00154   38.66253  ... 144.3636    22.767195  89.87375 ]\n"
     ]
    }
   ],
   "source": [
    "#Prediction on Test Data\n",
    "TestPrediction=model.predict(X_test)\n",
    "print(TestPrediction)"
   ],
   "metadata": {
    "collapsed": false,
    "pycharm": {
     "name": "#%%\n"
    }
   }
  },
  {
   "cell_type": "code",
   "execution_count": 24,
   "outputs": [
    {
     "name": "stdout",
     "output_type": "stream",
     "text": [
      "1.4807048829992613\n"
     ]
    }
   ],
   "source": [
    "#Mean Absolute Error\n",
    "MAE=metrics.mean_absolute_error(Y_test,TestPrediction)\n",
    "print(MAE)"
   ],
   "metadata": {
    "collapsed": false,
    "pycharm": {
     "name": "#%%\n"
    }
   }
  },
  {
   "cell_type": "code",
   "execution_count": 25,
   "outputs": [
    {
     "name": "stdout",
     "output_type": "stream",
     "text": [
      "[182.49557]\n"
     ]
    }
   ],
   "source": [
    "inputData=(0,63,173.0,79.0,30.0,92.0,40.5)\n",
    "#Changing inputData to numpy array\n",
    "inputData_asNumpyArray=np.asarray(inputData)\n",
    "\n",
    "#reshape the np array as we are predicting for one instance\n",
    "inputData_Reshaped=inputData_asNumpyArray.reshape(1,-1)\n",
    "\n",
    "prediction=model.predict(inputData_Reshaped)\n",
    "print(prediction)"
   ],
   "metadata": {
    "collapsed": false,
    "pycharm": {
     "name": "#%%\n"
    }
   }
  },
  {
   "cell_type": "code",
   "execution_count": 25,
   "outputs": [],
   "source": [],
   "metadata": {
    "collapsed": false,
    "pycharm": {
     "name": "#%%\n"
    }
   }
  }
 ],
 "metadata": {
  "kernelspec": {
   "display_name": "Python 3",
   "language": "python",
   "name": "python3"
  },
  "language_info": {
   "codemirror_mode": {
    "name": "ipython",
    "version": 2
   },
   "file_extension": ".py",
   "mimetype": "text/x-python",
   "name": "python",
   "nbconvert_exporter": "python",
   "pygments_lexer": "ipython2",
   "version": "2.7.6"
  }
 },
 "nbformat": 4,
 "nbformat_minor": 0
}